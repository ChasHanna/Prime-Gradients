{
 "cells": [
  {
   "cell_type": "markdown",
   "id": "5a5ed08b",
   "metadata": {},
   "source": [
    "# Creating a gradient out of the Mersenne prime exponents\n",
    "\n",
    "## Background\n",
    "\n",
    "Like many people, I have been fascinated by prime numbers since childhood. I would notice in the Guinness Book of World Records, for example, that the world's largest known prime would always be some number along the lines of 2^k - 1.\n",
    "\n",
    "I had mistakenly assumed that these numbers were more conducive for computers because they are two to the power of some number (here k), minus one. I have recently finished reading the book \"The Music of the Primes\" by Marcus du Sautoy, and learned that this was rather due to the Lucas-Lehmer test.\n",
    "\n",
    "## Art out of the Mersennes\n",
    "\n",
    "This reinvigorated my interest in the Mersenne primes. After assessing the distribution of primes from 0 through 255, I wanted to make a gradient out of the exponents of the Mersenne primes to assess what the pattern was.\n",
    "\n",
    "I found those exponents on the [Online Encyclopedia of Integer Sequences](https://oeis.org/A000043) then figured out how to go from there."
   ]
  },
  {
   "cell_type": "code",
   "execution_count": 1,
   "id": "46562093",
   "metadata": {},
   "outputs": [],
   "source": [
    "mersenne_k = [2, 3, 5, 7, \n",
    "              13, 17, 19, 31, 61, 89, \n",
    "              107, 127, 521, 607, \n",
    "              1279, 2203, 2281, 3217, 4253, 4423, 9689, 9941, \n",
    "              11213, 19937, 21701, 23209, 44497, 86243, \n",
    "              110503, 132049, 216091, 756839, 859433, \n",
    "              1257787, 1398269, 2976221, 3021377, 6972593, \n",
    "              13466917, 20996011, 24036583, 25964951, 30402457, 32582657, 37156667, 42643801, 43112609, 57885161]"
   ]
  },
  {
   "cell_type": "markdown",
   "id": "adb23f58",
   "metadata": {},
   "source": [
    "Clearly, these numbers are far larger than 255. To my surprise, despite their size, there are only 48 known as of 21 July 2022. I scaled them down to a 0 to 255 range in the following cells:"
   ]
  },
  {
   "cell_type": "code",
   "execution_count": 2,
   "id": "943460a7",
   "metadata": {},
   "outputs": [],
   "source": [
    "mersenne_k_proportions = [k / max(mersenne_k) for k in mersenne_k]"
   ]
  },
  {
   "cell_type": "code",
   "execution_count": 3,
   "id": "702af779",
   "metadata": {},
   "outputs": [],
   "source": [
    "mersenne_k_colors = [255 * k for k in mersenne_k_proportions]"
   ]
  },
  {
   "cell_type": "code",
   "execution_count": 4,
   "id": "d537d6f6",
   "metadata": {},
   "outputs": [],
   "source": [
    "mersenne_k_colors = [int(round(k, 0)) for k in mersenne_k_colors]"
   ]
  },
  {
   "cell_type": "markdown",
   "id": "50c25097",
   "metadata": {},
   "source": [
    "I then imported Python Image Library / pillow, and created the gradient, with columns of an increasingly intense blue in accordance with the scale of the exponent compared to the size of the other exponents.\n",
    "\n",
    "Columns are of width c pixels, since I originally went with red, then green, then blue, before going to all blue. This is evident in the structure of the get_color function:"
   ]
  },
  {
   "cell_type": "code",
   "execution_count": 5,
   "id": "eb61183d",
   "metadata": {},
   "outputs": [],
   "source": [
    "from PIL import Image"
   ]
  },
  {
   "cell_type": "code",
   "execution_count": 6,
   "id": "1349cda6",
   "metadata": {},
   "outputs": [],
   "source": [
    "def get_color(k_iter): #(c, x, k_iter):\n",
    "    n = mersenne_k_colors[k_iter]\n",
    "    return (0, 0, n, 255)\n",
    "    \n",
    "    #if x % c == 0:\n",
    "    #    return (n, 0, 0, 255)\n",
    "    #elif x % c == 1:\n",
    "    #    return (0, n, 0, 255)\n",
    "    #else:\n",
    "    #    return (0, 0, n, 255)"
   ]
  },
  {
   "cell_type": "code",
   "execution_count": 7,
   "id": "f7c19d09",
   "metadata": {},
   "outputs": [],
   "source": [
    "c = 3 # column width of 3 pixels - originally for 3 colors, red, green, and blue\n",
    "x = len(mersenne_k_colors) * c # one set of columns for each color times number of colors\n",
    "y = x # make it a square\n",
    "\n",
    "def newImg():\n",
    "    i = 0\n",
    "    j = 0\n",
    "    k_iter = -1\n",
    "    img = Image.new('RGB', (x, y))\n",
    "    for pxl in range(x * y):\n",
    "        if i < x:\n",
    "            \n",
    "            if i % c == 0:\n",
    "                k_iter += 1\n",
    "                \n",
    "            img.putpixel((i, j), get_color(k_iter))\n",
    "            i += 1\n",
    "        else:\n",
    "            i = 0\n",
    "            j += 1\n",
    "            k_iter = -1\n",
    "            \n",
    "            if i % c == 0:\n",
    "                k_iter += 1\n",
    "                \n",
    "            img.putpixel((i, j), get_color(k_iter))\n",
    "            i += 1\n",
    "        \n",
    "\n",
    "    img.save('mersenne_gradient.png')\n",
    "\n",
    "    return img\n",
    "\n",
    "wallpaper = newImg()\n",
    "wallpaper.show()"
   ]
  },
  {
   "attachments": {
    "mersenne_gradient.png": {
     "image/png": "[encoded data removed]"
    }
   },
   "cell_type": "markdown",
   "id": "1d19aca3",
   "metadata": {},
   "source": [
    "Here are the results:\n",
    "\n",
    "![mersenne_gradient.png](attachment:mersenne_gradient.png)"
   ]
  }
 ],
 "metadata": {
  "kernelspec": {
   "display_name": "Python 3 (ipykernel)",
   "language": "python",
   "name": "python3"
  },
  "language_info": {
   "codemirror_mode": {
    "name": "ipython",
    "version": 3
   },
   "file_extension": ".py",
   "mimetype": "text/x-python",
   "name": "python",
   "nbconvert_exporter": "python",
   "pygments_lexer": "ipython3",
   "version": "3.7.3"
  }
 },
 "nbformat": 4,
 "nbformat_minor": 5
}
