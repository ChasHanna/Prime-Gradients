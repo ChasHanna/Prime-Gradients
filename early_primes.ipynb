{
 "cells": [
  {
   "cell_type": "markdown",
   "id": "a34eb653",
   "metadata": {},
   "source": [
    "# Creating a gradient out of the primes from 0 through 255\n",
    "\n",
    "## Background\n",
    "\n",
    "Like many people, I have been fascinated by prime numbers since childhood. I have recently finished reading the book \"The Music of the Primes\" by Marcus du Sautoy, and decided to see what I could learn about the distributions of primes visually.\n",
    "\n",
    "## Art out of the primes\n",
    "\n",
    "This reinvigorated my interest in the primes. I figured looking at the primes from 0 through 255 (the range of RGB color values) would be the perfect place to start.\n",
    "\n",
    "Although I got this list I used from Wikipedia, and can also be found on the [Online Encyclopedia of Integer Sequences](https://oeis.org/A008578) then figured out how to go from there. As you will note, 1 is no longer considered a prime number, and therefore I have excluded it below:"
   ]
  },
  {
   "cell_type": "code",
   "execution_count": 1,
   "id": "94ac2f8c",
   "metadata": {},
   "outputs": [],
   "source": [
    "early_primes = [2, 3, 5, 7, 11, 13, 17, 19, 23, 29, 31, 37, 41, 43, 47, 53, 59, 61, 67, 71, 73, 79, 83, 89, 97, 101, 103, 107, 109, 113, 127, 131, 137, 139, 149, 151, 157, 163, 167, 173, 179, 181, 191, 193, 197, 199, 211, 223, 227, 229, 233, 239, 241, 251]"
   ]
  },
  {
   "cell_type": "markdown",
   "id": "b71a6090",
   "metadata": {},
   "source": [
    "Next I wanted to know exactly how many primes there were from 0 to 255, and get an idea of how wide the image would be:"
   ]
  },
  {
   "cell_type": "code",
   "execution_count": 2,
   "id": "494668e1",
   "metadata": {},
   "outputs": [
    {
     "data": {
      "text/plain": [
       "54"
      ]
     },
     "execution_count": 2,
     "metadata": {},
     "output_type": "execute_result"
    }
   ],
   "source": [
    "len(early_primes)"
   ]
  },
  {
   "cell_type": "markdown",
   "id": "dfc63eb7",
   "metadata": {},
   "source": [
    "I decided 54 x 54 pixels was too small, so I thought why not use R and G and B side by side to expand the image, and help illustrate and illuminate the distribution for me?\n",
    "\n",
    "I then imported Python Image Library / pillow, and created the gradient, with columns of an increasingly intense blue in accordance with the scale of the prime compared to the size of the other primes.\n",
    "\n",
    "Columns are of width c pixels, since I originally went with red, then green, then blue, before going to all blue, which I like looking at a lot better. This is retained in the structure of the get_color function:"
   ]
  },
  {
   "cell_type": "code",
   "execution_count": 3,
   "id": "339fddb2",
   "metadata": {},
   "outputs": [],
   "source": [
    "from PIL import Image"
   ]
  },
  {
   "cell_type": "code",
   "execution_count": 4,
   "id": "a9c0c343",
   "metadata": {},
   "outputs": [],
   "source": [
    "def get_color(prime_iter): #(c, x, prime_iter):\n",
    "    n = early_primes[prime_iter]\n",
    "    return (0, 0, n, 255)\n",
    "    \n",
    "    #if x % c == 0:\n",
    "    #    return (n, 0, 0, 255)\n",
    "    #elif x % c == 1:\n",
    "    #    return (0, n, 0, 255)\n",
    "    #else:\n",
    "    #    return (0, 0, n, 255)"
   ]
  },
  {
   "cell_type": "code",
   "execution_count": 5,
   "id": "9572b58b",
   "metadata": {},
   "outputs": [],
   "source": [
    "c = 3\n",
    "x = len(early_primes) * c\n",
    "y = x\n",
    "\n",
    "def newImg():\n",
    "    i = 0\n",
    "    j = 0\n",
    "    prime_iter = -1\n",
    "    img = Image.new('RGB', (x, y))\n",
    "    for pxl in range(x * y):\n",
    "        if i < x:\n",
    "            \n",
    "            if i % c == 0:\n",
    "                prime_iter += 1\n",
    "                \n",
    "            img.putpixel((i, j), get_color(prime_iter))\n",
    "            i += 1\n",
    "        else:\n",
    "            i = 0\n",
    "            j += 1\n",
    "            prime_iter = -1\n",
    "            \n",
    "            if i % c == 0:\n",
    "                prime_iter += 1\n",
    "                \n",
    "            img.putpixel((i, j), get_color(prime_iter))\n",
    "            i += 1\n",
    "        \n",
    "\n",
    "    img.save('early_primes.png')\n",
    "\n",
    "    return img\n",
    "\n",
    "wallpaper = newImg()\n",
    "wallpaper.show()"
   ]
  },
  {
   "attachments": {
    "early_primes.png": {
     "image/png": "[encoded data removed]"
    }
   },
   "cell_type": "markdown",
   "id": "03fc8f6f",
   "metadata": {},
   "source": [
    "Here are the results:\n",
    "\n",
    "![early_primes.png](attachment:early_primes.png)"
   ]
  }
 ],
 "metadata": {
  "kernelspec": {
   "display_name": "Python 3 (ipykernel)",
   "language": "python",
   "name": "python3"
  },
  "language_info": {
   "codemirror_mode": {
    "name": "ipython",
    "version": 3
   },
   "file_extension": ".py",
   "mimetype": "text/x-python",
   "name": "python",
   "nbconvert_exporter": "python",
   "pygments_lexer": "ipython3",
   "version": "3.7.3"
  }
 },
 "nbformat": 4,
 "nbformat_minor": 5
}
